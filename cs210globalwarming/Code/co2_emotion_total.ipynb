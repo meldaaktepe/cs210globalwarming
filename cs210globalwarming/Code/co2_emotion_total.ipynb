{
 "cells": [
  {
   "cell_type": "code",
   "execution_count": 2,
   "metadata": {
    "collapsed": false
   },
   "outputs": [],
   "source": [
    "pylab inline"
   ]
  },
  {
   "cell_type": "code",
   "execution_count": 3,
   "metadata": {
    "collapsed": false
   },
   "outputs": [],
   "source": [
    "import numpy as np\n",
    "import pandas as pd"
   ]
  },
  {
   "cell_type": "code",
   "execution_count": 4,
   "metadata": {
    "collapsed": false
   },
   "outputs": [],
   "source": [
    "file_location = \"D:/Users/SUUSER/Desktop/CS210 project/Data/co2Emotion-Total.xlsx\""
   ]
  },
  {
   "cell_type": "code",
   "execution_count": 5,
   "metadata": {
    "collapsed": false,
    "scrolled": false
   },
   "outputs": [],
   "source": [
    "data_file = pd.read_excel(file_location)"
   ]
  },
  {
   "cell_type": "code",
   "execution_count": 6,
   "metadata": {
    "collapsed": false
   },
   "outputs": [],
   "source": [
    "years = data_file.ix[:,4:12]\n",
    "country = data_file.ix[:,\"Country Name\"]\n",
    "my_data = [country,years]\n",
    "result = pd.concat(my_data, axis = 1)"
   ]
  },
  {
   "cell_type": "code",
   "execution_count": 7,
   "metadata": {
    "collapsed": false
   },
   "outputs": [],
   "source": [
    "china = result.ix[41,:]\n",
    "us =  result.ix[206,:]\n",
    "canada =  result.ix[35,:]\n",
    "brasil =  result.ix[26,:]\n",
    "indonesia =  result.ix[89,:]\n",
    "india =  result.ix[88,:]\n",
    "japan =  result.ix[97,:]\n",
    "Turkey =  result.ix[198,:]"
   ]
  },
  {
   "cell_type": "code",
   "execution_count": 8,
   "metadata": {
    "collapsed": false,
    "scrolled": true
   },
   "outputs": [
    {
     "data": {
      "text/html": [
       "<div>\n",
       "<table border=\"1\" class=\"dataframe\">\n",
       "  <thead>\n",
       "    <tr style=\"text-align: right;\">\n",
       "      <th></th>\n",
       "      <th>41</th>\n",
       "      <th>206</th>\n",
       "      <th>35</th>\n",
       "      <th>26</th>\n",
       "      <th>89</th>\n",
       "      <th>88</th>\n",
       "      <th>97</th>\n",
       "      <th>198</th>\n",
       "    </tr>\n",
       "  </thead>\n",
       "  <tbody>\n",
       "    <tr>\n",
       "      <th>Country Name</th>\n",
       "      <td>China</td>\n",
       "      <td>United States</td>\n",
       "      <td>Canada</td>\n",
       "      <td>Brazil</td>\n",
       "      <td>Indonesia</td>\n",
       "      <td>India</td>\n",
       "      <td>Japan</td>\n",
       "      <td>Turkey</td>\n",
       "    </tr>\n",
       "    <tr>\n",
       "      <th>1990 [YR1990]</th>\n",
       "      <td>3.89268e+06</td>\n",
       "      <td>6.13609e+06</td>\n",
       "      <td>608685</td>\n",
       "      <td>1.60621e+06</td>\n",
       "      <td>1.16511e+06</td>\n",
       "      <td>1.38737e+06</td>\n",
       "      <td>1.30468e+06</td>\n",
       "      <td>224459</td>\n",
       "    </tr>\n",
       "    <tr>\n",
       "      <th>2000 [YR2000]</th>\n",
       "      <td>5.08233e+06</td>\n",
       "      <td>6.96912e+06</td>\n",
       "      <td>760643</td>\n",
       "      <td>1.22263e+06</td>\n",
       "      <td>622465</td>\n",
       "      <td>1885189</td>\n",
       "      <td>1.40619e+06</td>\n",
       "      <td>316465</td>\n",
       "    </tr>\n",
       "    <tr>\n",
       "      <th>2007 [YR2007]</th>\n",
       "      <td>9.12405e+06</td>\n",
       "      <td>7.12895e+06</td>\n",
       "      <td>892067</td>\n",
       "      <td>2.7035e+06</td>\n",
       "      <td>772946</td>\n",
       "      <td>2.38201e+06</td>\n",
       "      <td>1.46136e+06</td>\n",
       "      <td>406298</td>\n",
       "    </tr>\n",
       "    <tr>\n",
       "      <th>2008 [YR2008]</th>\n",
       "      <td>1.0022e+07</td>\n",
       "      <td>6.64899e+06</td>\n",
       "      <td>908926</td>\n",
       "      <td>1.53286e+06</td>\n",
       "      <td>796582</td>\n",
       "      <td>2.43871e+06</td>\n",
       "      <td>1.38516e+06</td>\n",
       "      <td>399182</td>\n",
       "    </tr>\n",
       "    <tr>\n",
       "      <th>2009 [YR2009]</th>\n",
       "      <td>1.06173e+07</td>\n",
       "      <td>6.60407e+06</td>\n",
       "      <td>749864</td>\n",
       "      <td>1.21197e+06</td>\n",
       "      <td>1.14829e+06</td>\n",
       "      <td>2.59464e+06</td>\n",
       "      <td>1.29024e+06</td>\n",
       "      <td>404637</td>\n",
       "    </tr>\n",
       "    <tr>\n",
       "      <th>2010 [YR2010]</th>\n",
       "      <td>1.11838e+07</td>\n",
       "      <td>6.71335e+06</td>\n",
       "      <td>764138</td>\n",
       "      <td>2.90224e+06</td>\n",
       "      <td>744790</td>\n",
       "      <td>2.77146e+06</td>\n",
       "      <td>1.35043e+06</td>\n",
       "      <td>422722</td>\n",
       "    </tr>\n",
       "    <tr>\n",
       "      <th>2011 [YR2011]</th>\n",
       "      <td>1.20643e+07</td>\n",
       "      <td>6.57165e+06</td>\n",
       "      <td>1.03348e+06</td>\n",
       "      <td>2.95304e+06</td>\n",
       "      <td>763553</td>\n",
       "      <td>2.82885e+06</td>\n",
       "      <td>1.39677e+06</td>\n",
       "      <td>434798</td>\n",
       "    </tr>\n",
       "    <tr>\n",
       "      <th>2012 [YR2012]</th>\n",
       "      <td>1.24547e+07</td>\n",
       "      <td>6.34384e+06</td>\n",
       "      <td>1.02706e+06</td>\n",
       "      <td>2.98942e+06</td>\n",
       "      <td>780551</td>\n",
       "      <td>3.00289e+06</td>\n",
       "      <td>1.47886e+06</td>\n",
       "      <td>445640</td>\n",
       "    </tr>\n",
       "  </tbody>\n",
       "</table>\n",
       "</div>"
      ],
      "text/plain": [
       "                       41             206          35           26   \\\n",
       "Country Name         China  United States       Canada       Brazil   \n",
       "1990 [YR1990]  3.89268e+06    6.13609e+06       608685  1.60621e+06   \n",
       "2000 [YR2000]  5.08233e+06    6.96912e+06       760643  1.22263e+06   \n",
       "2007 [YR2007]  9.12405e+06    7.12895e+06       892067   2.7035e+06   \n",
       "2008 [YR2008]   1.0022e+07    6.64899e+06       908926  1.53286e+06   \n",
       "2009 [YR2009]  1.06173e+07    6.60407e+06       749864  1.21197e+06   \n",
       "2010 [YR2010]  1.11838e+07    6.71335e+06       764138  2.90224e+06   \n",
       "2011 [YR2011]  1.20643e+07    6.57165e+06  1.03348e+06  2.95304e+06   \n",
       "2012 [YR2012]  1.24547e+07    6.34384e+06  1.02706e+06  2.98942e+06   \n",
       "\n",
       "                       89           88           97      198  \n",
       "Country Name     Indonesia        India        Japan  Turkey  \n",
       "1990 [YR1990]  1.16511e+06  1.38737e+06  1.30468e+06  224459  \n",
       "2000 [YR2000]       622465      1885189  1.40619e+06  316465  \n",
       "2007 [YR2007]       772946  2.38201e+06  1.46136e+06  406298  \n",
       "2008 [YR2008]       796582  2.43871e+06  1.38516e+06  399182  \n",
       "2009 [YR2009]  1.14829e+06  2.59464e+06  1.29024e+06  404637  \n",
       "2010 [YR2010]       744790  2.77146e+06  1.35043e+06  422722  \n",
       "2011 [YR2011]       763553  2.82885e+06  1.39677e+06  434798  \n",
       "2012 [YR2012]       780551  3.00289e+06  1.47886e+06  445640  "
      ]
     },
     "execution_count": 8,
     "metadata": {},
     "output_type": "execute_result"
    }
   ],
   "source": [
    "my_data = [china,us,canada,brasil,indonesia,india,japan,Turkey]\n",
    "result = pd.concat(my_data, axis = 1)\n",
    "result.to_excel(\"result.xlsx\")\n",
    "result"
   ]
  },
  {
   "cell_type": "code",
   "execution_count": 9,
   "metadata": {
    "collapsed": false
   },
   "outputs": [
    {
     "data": {
      "text/html": [
       "<div>\n",
       "<table border=\"1\" class=\"dataframe\">\n",
       "  <thead>\n",
       "    <tr style=\"text-align: right;\">\n",
       "      <th></th>\n",
       "      <th>China</th>\n",
       "      <th>United States</th>\n",
       "      <th>Canada</th>\n",
       "      <th>Brazil</th>\n",
       "      <th>Indonesia</th>\n",
       "      <th>India</th>\n",
       "      <th>Japan</th>\n",
       "      <th>Turkey</th>\n",
       "    </tr>\n",
       "  </thead>\n",
       "  <tbody>\n",
       "    <tr>\n",
       "      <th>Country Name</th>\n",
       "      <td>China</td>\n",
       "      <td>United States</td>\n",
       "      <td>Canada</td>\n",
       "      <td>Brazil</td>\n",
       "      <td>Indonesia</td>\n",
       "      <td>India</td>\n",
       "      <td>Japan</td>\n",
       "      <td>Turkey</td>\n",
       "    </tr>\n",
       "    <tr>\n",
       "      <th>1990 [YR1990]</th>\n",
       "      <td>3.89268e+06</td>\n",
       "      <td>6.13609e+06</td>\n",
       "      <td>608685</td>\n",
       "      <td>1.60621e+06</td>\n",
       "      <td>1.16511e+06</td>\n",
       "      <td>1.38737e+06</td>\n",
       "      <td>1.30468e+06</td>\n",
       "      <td>224459</td>\n",
       "    </tr>\n",
       "    <tr>\n",
       "      <th>2000 [YR2000]</th>\n",
       "      <td>5.08233e+06</td>\n",
       "      <td>6.96912e+06</td>\n",
       "      <td>760643</td>\n",
       "      <td>1.22263e+06</td>\n",
       "      <td>622465</td>\n",
       "      <td>1885189</td>\n",
       "      <td>1.40619e+06</td>\n",
       "      <td>316465</td>\n",
       "    </tr>\n",
       "    <tr>\n",
       "      <th>2007 [YR2007]</th>\n",
       "      <td>9.12405e+06</td>\n",
       "      <td>7.12895e+06</td>\n",
       "      <td>892067</td>\n",
       "      <td>2.7035e+06</td>\n",
       "      <td>772946</td>\n",
       "      <td>2.38201e+06</td>\n",
       "      <td>1.46136e+06</td>\n",
       "      <td>406298</td>\n",
       "    </tr>\n",
       "    <tr>\n",
       "      <th>2008 [YR2008]</th>\n",
       "      <td>1.0022e+07</td>\n",
       "      <td>6.64899e+06</td>\n",
       "      <td>908926</td>\n",
       "      <td>1.53286e+06</td>\n",
       "      <td>796582</td>\n",
       "      <td>2.43871e+06</td>\n",
       "      <td>1.38516e+06</td>\n",
       "      <td>399182</td>\n",
       "    </tr>\n",
       "    <tr>\n",
       "      <th>2009 [YR2009]</th>\n",
       "      <td>1.06173e+07</td>\n",
       "      <td>6.60407e+06</td>\n",
       "      <td>749864</td>\n",
       "      <td>1.21197e+06</td>\n",
       "      <td>1.14829e+06</td>\n",
       "      <td>2.59464e+06</td>\n",
       "      <td>1.29024e+06</td>\n",
       "      <td>404637</td>\n",
       "    </tr>\n",
       "    <tr>\n",
       "      <th>2010 [YR2010]</th>\n",
       "      <td>1.11838e+07</td>\n",
       "      <td>6.71335e+06</td>\n",
       "      <td>764138</td>\n",
       "      <td>2.90224e+06</td>\n",
       "      <td>744790</td>\n",
       "      <td>2.77146e+06</td>\n",
       "      <td>1.35043e+06</td>\n",
       "      <td>422722</td>\n",
       "    </tr>\n",
       "    <tr>\n",
       "      <th>2011 [YR2011]</th>\n",
       "      <td>1.20643e+07</td>\n",
       "      <td>6.57165e+06</td>\n",
       "      <td>1.03348e+06</td>\n",
       "      <td>2.95304e+06</td>\n",
       "      <td>763553</td>\n",
       "      <td>2.82885e+06</td>\n",
       "      <td>1.39677e+06</td>\n",
       "      <td>434798</td>\n",
       "    </tr>\n",
       "    <tr>\n",
       "      <th>2012 [YR2012]</th>\n",
       "      <td>1.24547e+07</td>\n",
       "      <td>6.34384e+06</td>\n",
       "      <td>1.02706e+06</td>\n",
       "      <td>2.98942e+06</td>\n",
       "      <td>780551</td>\n",
       "      <td>3.00289e+06</td>\n",
       "      <td>1.47886e+06</td>\n",
       "      <td>445640</td>\n",
       "    </tr>\n",
       "  </tbody>\n",
       "</table>\n",
       "</div>"
      ],
      "text/plain": [
       "                     China  United States       Canada       Brazil  \\\n",
       "Country Name         China  United States       Canada       Brazil   \n",
       "1990 [YR1990]  3.89268e+06    6.13609e+06       608685  1.60621e+06   \n",
       "2000 [YR2000]  5.08233e+06    6.96912e+06       760643  1.22263e+06   \n",
       "2007 [YR2007]  9.12405e+06    7.12895e+06       892067   2.7035e+06   \n",
       "2008 [YR2008]   1.0022e+07    6.64899e+06       908926  1.53286e+06   \n",
       "2009 [YR2009]  1.06173e+07    6.60407e+06       749864  1.21197e+06   \n",
       "2010 [YR2010]  1.11838e+07    6.71335e+06       764138  2.90224e+06   \n",
       "2011 [YR2011]  1.20643e+07    6.57165e+06  1.03348e+06  2.95304e+06   \n",
       "2012 [YR2012]  1.24547e+07    6.34384e+06  1.02706e+06  2.98942e+06   \n",
       "\n",
       "                 Indonesia        India        Japan  Turkey  \n",
       "Country Name     Indonesia        India        Japan  Turkey  \n",
       "1990 [YR1990]  1.16511e+06  1.38737e+06  1.30468e+06  224459  \n",
       "2000 [YR2000]       622465      1885189  1.40619e+06  316465  \n",
       "2007 [YR2007]       772946  2.38201e+06  1.46136e+06  406298  \n",
       "2008 [YR2008]       796582  2.43871e+06  1.38516e+06  399182  \n",
       "2009 [YR2009]  1.14829e+06  2.59464e+06  1.29024e+06  404637  \n",
       "2010 [YR2010]       744790  2.77146e+06  1.35043e+06  422722  \n",
       "2011 [YR2011]       763553  2.82885e+06  1.39677e+06  434798  \n",
       "2012 [YR2012]       780551  3.00289e+06  1.47886e+06  445640  "
      ]
     },
     "execution_count": 9,
     "metadata": {},
     "output_type": "execute_result"
    }
   ],
   "source": [
    "result.columns = [\"China\",\"United States\",\"Canada\",\"Brazil\",\"Indonesia\",\"India\",\"Japan\",\"Turkey\"]\n",
    "result"
   ]
  },
  {
   "cell_type": "code",
   "execution_count": 10,
   "metadata": {
    "collapsed": false
   },
   "outputs": [
    {
     "data": {
      "text/html": [
       "<div>\n",
       "<table border=\"1\" class=\"dataframe\">\n",
       "  <thead>\n",
       "    <tr style=\"text-align: right;\">\n",
       "      <th></th>\n",
       "      <th>China</th>\n",
       "      <th>United States</th>\n",
       "      <th>Canada</th>\n",
       "      <th>Brazil</th>\n",
       "      <th>Indonesia</th>\n",
       "      <th>India</th>\n",
       "      <th>Japan</th>\n",
       "      <th>Turkey</th>\n",
       "    </tr>\n",
       "  </thead>\n",
       "  <tbody>\n",
       "    <tr>\n",
       "      <th>1990 [YR1990]</th>\n",
       "      <td>3.89268e+06</td>\n",
       "      <td>6.13609e+06</td>\n",
       "      <td>608685</td>\n",
       "      <td>1.60621e+06</td>\n",
       "      <td>1.16511e+06</td>\n",
       "      <td>1.38737e+06</td>\n",
       "      <td>1.30468e+06</td>\n",
       "      <td>224459</td>\n",
       "    </tr>\n",
       "    <tr>\n",
       "      <th>2000 [YR2000]</th>\n",
       "      <td>5.08233e+06</td>\n",
       "      <td>6.96912e+06</td>\n",
       "      <td>760643</td>\n",
       "      <td>1.22263e+06</td>\n",
       "      <td>622465</td>\n",
       "      <td>1885189</td>\n",
       "      <td>1.40619e+06</td>\n",
       "      <td>316465</td>\n",
       "    </tr>\n",
       "    <tr>\n",
       "      <th>2007 [YR2007]</th>\n",
       "      <td>9.12405e+06</td>\n",
       "      <td>7.12895e+06</td>\n",
       "      <td>892067</td>\n",
       "      <td>2.7035e+06</td>\n",
       "      <td>772946</td>\n",
       "      <td>2.38201e+06</td>\n",
       "      <td>1.46136e+06</td>\n",
       "      <td>406298</td>\n",
       "    </tr>\n",
       "    <tr>\n",
       "      <th>2008 [YR2008]</th>\n",
       "      <td>1.0022e+07</td>\n",
       "      <td>6.64899e+06</td>\n",
       "      <td>908926</td>\n",
       "      <td>1.53286e+06</td>\n",
       "      <td>796582</td>\n",
       "      <td>2.43871e+06</td>\n",
       "      <td>1.38516e+06</td>\n",
       "      <td>399182</td>\n",
       "    </tr>\n",
       "    <tr>\n",
       "      <th>2009 [YR2009]</th>\n",
       "      <td>1.06173e+07</td>\n",
       "      <td>6.60407e+06</td>\n",
       "      <td>749864</td>\n",
       "      <td>1.21197e+06</td>\n",
       "      <td>1.14829e+06</td>\n",
       "      <td>2.59464e+06</td>\n",
       "      <td>1.29024e+06</td>\n",
       "      <td>404637</td>\n",
       "    </tr>\n",
       "    <tr>\n",
       "      <th>2010 [YR2010]</th>\n",
       "      <td>1.11838e+07</td>\n",
       "      <td>6.71335e+06</td>\n",
       "      <td>764138</td>\n",
       "      <td>2.90224e+06</td>\n",
       "      <td>744790</td>\n",
       "      <td>2.77146e+06</td>\n",
       "      <td>1.35043e+06</td>\n",
       "      <td>422722</td>\n",
       "    </tr>\n",
       "    <tr>\n",
       "      <th>2011 [YR2011]</th>\n",
       "      <td>1.20643e+07</td>\n",
       "      <td>6.57165e+06</td>\n",
       "      <td>1.03348e+06</td>\n",
       "      <td>2.95304e+06</td>\n",
       "      <td>763553</td>\n",
       "      <td>2.82885e+06</td>\n",
       "      <td>1.39677e+06</td>\n",
       "      <td>434798</td>\n",
       "    </tr>\n",
       "    <tr>\n",
       "      <th>2012 [YR2012]</th>\n",
       "      <td>1.24547e+07</td>\n",
       "      <td>6.34384e+06</td>\n",
       "      <td>1.02706e+06</td>\n",
       "      <td>2.98942e+06</td>\n",
       "      <td>780551</td>\n",
       "      <td>3.00289e+06</td>\n",
       "      <td>1.47886e+06</td>\n",
       "      <td>445640</td>\n",
       "    </tr>\n",
       "  </tbody>\n",
       "</table>\n",
       "</div>"
      ],
      "text/plain": [
       "                     China United States       Canada       Brazil  \\\n",
       "1990 [YR1990]  3.89268e+06   6.13609e+06       608685  1.60621e+06   \n",
       "2000 [YR2000]  5.08233e+06   6.96912e+06       760643  1.22263e+06   \n",
       "2007 [YR2007]  9.12405e+06   7.12895e+06       892067   2.7035e+06   \n",
       "2008 [YR2008]   1.0022e+07   6.64899e+06       908926  1.53286e+06   \n",
       "2009 [YR2009]  1.06173e+07   6.60407e+06       749864  1.21197e+06   \n",
       "2010 [YR2010]  1.11838e+07   6.71335e+06       764138  2.90224e+06   \n",
       "2011 [YR2011]  1.20643e+07   6.57165e+06  1.03348e+06  2.95304e+06   \n",
       "2012 [YR2012]  1.24547e+07   6.34384e+06  1.02706e+06  2.98942e+06   \n",
       "\n",
       "                 Indonesia        India        Japan  Turkey  \n",
       "1990 [YR1990]  1.16511e+06  1.38737e+06  1.30468e+06  224459  \n",
       "2000 [YR2000]       622465      1885189  1.40619e+06  316465  \n",
       "2007 [YR2007]       772946  2.38201e+06  1.46136e+06  406298  \n",
       "2008 [YR2008]       796582  2.43871e+06  1.38516e+06  399182  \n",
       "2009 [YR2009]  1.14829e+06  2.59464e+06  1.29024e+06  404637  \n",
       "2010 [YR2010]       744790  2.77146e+06  1.35043e+06  422722  \n",
       "2011 [YR2011]       763553  2.82885e+06  1.39677e+06  434798  \n",
       "2012 [YR2012]       780551  3.00289e+06  1.47886e+06  445640  "
      ]
     },
     "execution_count": 10,
     "metadata": {},
     "output_type": "execute_result"
    }
   ],
   "source": [
    "result = result.drop(result.index[0])\n",
    "result"
   ]
  },
  {
   "cell_type": "code",
   "execution_count": 11,
   "metadata": {
    "collapsed": false
   },
   "outputs": [
    {
     "data": {
      "text/plain": [
       "China            object\n",
       "United States    object\n",
       "Canada           object\n",
       "Brazil           object\n",
       "Indonesia        object\n",
       "India            object\n",
       "Japan            object\n",
       "Turkey           object\n",
       "dtype: object"
      ]
     },
     "execution_count": 11,
     "metadata": {},
     "output_type": "execute_result"
    }
   ],
   "source": [
    "result.dtypes"
   ]
  },
  {
   "cell_type": "code",
   "execution_count": 12,
   "metadata": {
    "collapsed": false
   },
   "outputs": [
    {
     "data": {
      "text/plain": [
       "China            float64\n",
       "United States    float64\n",
       "Canada           float64\n",
       "Brazil           float64\n",
       "Indonesia        float64\n",
       "India            float64\n",
       "Japan            float64\n",
       "Turkey           float64\n",
       "dtype: object"
      ]
     },
     "execution_count": 12,
     "metadata": {},
     "output_type": "execute_result"
    }
   ],
   "source": [
    "result.ix[:,:]  = result.ix[:,:].astype(float)\n",
    "result.dtypes"
   ]
  },
  {
   "cell_type": "code",
   "execution_count": 13,
   "metadata": {
    "collapsed": false
   },
   "outputs": [
    {
     "data": {
      "text/html": [
       "<div>\n",
       "<table border=\"1\" class=\"dataframe\">\n",
       "  <thead>\n",
       "    <tr style=\"text-align: right;\">\n",
       "      <th></th>\n",
       "      <th>China</th>\n",
       "      <th>United States</th>\n",
       "      <th>Canada</th>\n",
       "      <th>Brazil</th>\n",
       "      <th>Indonesia</th>\n",
       "      <th>India</th>\n",
       "      <th>Japan</th>\n",
       "      <th>Turkey</th>\n",
       "    </tr>\n",
       "  </thead>\n",
       "  <tbody>\n",
       "    <tr>\n",
       "      <th>2007 [YR2007]</th>\n",
       "      <td>9.124046e+06</td>\n",
       "      <td>7.128952e+06</td>\n",
       "      <td>8.920668e+05</td>\n",
       "      <td>2.703499e+06</td>\n",
       "      <td>7.729462e+05</td>\n",
       "      <td>2.382012e+06</td>\n",
       "      <td>1.461356e+06</td>\n",
       "      <td>406298.253000</td>\n",
       "    </tr>\n",
       "    <tr>\n",
       "      <th>2008 [YR2008]</th>\n",
       "      <td>1.002202e+07</td>\n",
       "      <td>6.648991e+06</td>\n",
       "      <td>9.089260e+05</td>\n",
       "      <td>1.532860e+06</td>\n",
       "      <td>7.965819e+05</td>\n",
       "      <td>2.438714e+06</td>\n",
       "      <td>1.385165e+06</td>\n",
       "      <td>399181.904000</td>\n",
       "    </tr>\n",
       "    <tr>\n",
       "      <th>2009 [YR2009]</th>\n",
       "      <td>1.061726e+07</td>\n",
       "      <td>6.604069e+06</td>\n",
       "      <td>7.498637e+05</td>\n",
       "      <td>1.211969e+06</td>\n",
       "      <td>1.148286e+06</td>\n",
       "      <td>2.594640e+06</td>\n",
       "      <td>1.290244e+06</td>\n",
       "      <td>404636.723099</td>\n",
       "    </tr>\n",
       "    <tr>\n",
       "      <th>2010 [YR2010]</th>\n",
       "      <td>1.118381e+07</td>\n",
       "      <td>6.713349e+06</td>\n",
       "      <td>7.641377e+05</td>\n",
       "      <td>2.902243e+06</td>\n",
       "      <td>7.447900e+05</td>\n",
       "      <td>2.771457e+06</td>\n",
       "      <td>1.350428e+06</td>\n",
       "      <td>422721.874160</td>\n",
       "    </tr>\n",
       "    <tr>\n",
       "      <th>2011 [YR2011]</th>\n",
       "      <td>1.206426e+07</td>\n",
       "      <td>6.571654e+06</td>\n",
       "      <td>1.033482e+06</td>\n",
       "      <td>2.953041e+06</td>\n",
       "      <td>7.635532e+05</td>\n",
       "      <td>2.828846e+06</td>\n",
       "      <td>1.396767e+06</td>\n",
       "      <td>434798.461210</td>\n",
       "    </tr>\n",
       "    <tr>\n",
       "      <th>2012 [YR2012]</th>\n",
       "      <td>1.245471e+07</td>\n",
       "      <td>6.343841e+06</td>\n",
       "      <td>1.027064e+06</td>\n",
       "      <td>2.989418e+06</td>\n",
       "      <td>7.805508e+05</td>\n",
       "      <td>3.002895e+06</td>\n",
       "      <td>1.478859e+06</td>\n",
       "      <td>445640.078387</td>\n",
       "    </tr>\n",
       "  </tbody>\n",
       "</table>\n",
       "</div>"
      ],
      "text/plain": [
       "                      China  United States        Canada        Brazil  \\\n",
       "2007 [YR2007]  9.124046e+06   7.128952e+06  8.920668e+05  2.703499e+06   \n",
       "2008 [YR2008]  1.002202e+07   6.648991e+06  9.089260e+05  1.532860e+06   \n",
       "2009 [YR2009]  1.061726e+07   6.604069e+06  7.498637e+05  1.211969e+06   \n",
       "2010 [YR2010]  1.118381e+07   6.713349e+06  7.641377e+05  2.902243e+06   \n",
       "2011 [YR2011]  1.206426e+07   6.571654e+06  1.033482e+06  2.953041e+06   \n",
       "2012 [YR2012]  1.245471e+07   6.343841e+06  1.027064e+06  2.989418e+06   \n",
       "\n",
       "                  Indonesia         India         Japan         Turkey  \n",
       "2007 [YR2007]  7.729462e+05  2.382012e+06  1.461356e+06  406298.253000  \n",
       "2008 [YR2008]  7.965819e+05  2.438714e+06  1.385165e+06  399181.904000  \n",
       "2009 [YR2009]  1.148286e+06  2.594640e+06  1.290244e+06  404636.723099  \n",
       "2010 [YR2010]  7.447900e+05  2.771457e+06  1.350428e+06  422721.874160  \n",
       "2011 [YR2011]  7.635532e+05  2.828846e+06  1.396767e+06  434798.461210  \n",
       "2012 [YR2012]  7.805508e+05  3.002895e+06  1.478859e+06  445640.078387  "
      ]
     },
     "execution_count": 13,
     "metadata": {},
     "output_type": "execute_result"
    }
   ],
   "source": [
    "Data_2007_2012 = result.drop(result.index[0])\n",
    "Data_2007_2012 = Data_2007_2012.drop(Data_2007_2012.index[0])\n",
    "Data_2007_2012.to_excel(\"Data_2007_2012.xlsx\")\n",
    "Data_2007_2012"
   ]
  },
  {
   "cell_type": "code",
   "execution_count": 14,
   "metadata": {
    "collapsed": false
   },
   "outputs": [],
   "source": [
    "%matplotlib inline"
   ]
  },
  {
   "cell_type": "code",
   "execution_count": 15,
   "metadata": {
    "collapsed": false
   },
   "outputs": [],
   "source": [
    "import matplotlib.pyplot as plt"
   ]
  },
  {
   "cell_type": "code",
   "execution_count": 16,
   "metadata": {
    "collapsed": false
   },
   "outputs": [],
   "source": [
    "YA_China = result[\"China\"]\n",
    "YA_Us = result[\"United States\"]\n",
    "YA_Canada = result[\"Canada\"]\n",
    "YA_Brazil = result[\"Brazil\"]\n",
    "YA_Indonesia = result[\"Indonesia\"]\n",
    "YA_India = result[\"India\"]\n",
    "YA_Japan = result[\"Japan\"]\n",
    "YA_Turkey = result[\"Turkey\"]\n",
    "\n",
    "XA = [1990,2000,2007,2008,2009,2010,2011,2012]"
   ]
  },
  {
   "cell_type": "code",
   "execution_count": 17,
   "metadata": {
    "collapsed": false
   },
   "outputs": [
    {
     "data": {
      "image/png": "[encoded data removed]",
      "text/plain": [
       "<matplotlib.figure.Figure at 0x955f2b0>"
      ]
     },
     "metadata": {},
     "output_type": "display_data"
    }
   ],
   "source": [
    "plt.bar(XA, YA_China, 0.5, color = 'B')\n",
    "plt.xlabel(\"Years\")\n",
    "plt.ylabel(\"Total # of CO2 Emotion (millions)\")\n",
    "plt.title(\"Total # Of CO2 Emotion In China\")\n",
    "plt.axis([1989,2015,0, 15000000])\n",
    "plt.savefig(\"CO2_Total_China.jpg\")"
   ]
  },
  {
   "cell_type": "code",
   "execution_count": 18,
   "metadata": {
    "collapsed": false
   },
   "outputs": [
    {
     "data": {
      "image/png": "[encoded data removed]",
      "text/plain": [
       "<matplotlib.figure.Figure at 0x978ecc0>"
      ]
     },
     "metadata": {},
     "output_type": "display_data"
    }
   ],
   "source": [
    "plt.bar(XA, YA_Us, 0.5, color = 'B')\n",
    "plt.xlabel(\"Years\")\n",
    "plt.ylabel(\"Total # of CO2 Emotion (millions)\")\n",
    "plt.title(\"Total # Of CO2 Emotion In United States\")\n",
    "plt.axis([1989,2015,0, 15000000])\n",
    "plt.savefig(\"CO2_Total_Us.jpg\")"
   ]
  },
  {
   "cell_type": "code",
   "execution_count": 19,
   "metadata": {
    "collapsed": false
   },
   "outputs": [
    {
     "data": {
      "image/png": "[encoded data removed]",
      "text/plain": [
       "<matplotlib.figure.Figure at 0x954fcc0>"
      ]
     },
     "metadata": {},
     "output_type": "display_data"
    }
   ],
   "source": [
    "plt.bar(XA, YA_Canada, 0.5, color = 'B')\n",
    "plt.xlabel(\"Years\")\n",
    "plt.ylabel(\"Total # of CO2 Emotion (millions)\")\n",
    "plt.title(\"Total # Of CO2 Emotion In Canada\")\n",
    "plt.axis([1989,2015,0, 15000000])\n",
    "plt.savefig(\"CO2_Total_Canada.jpg\")"
   ]
  },
  {
   "cell_type": "code",
   "execution_count": 20,
   "metadata": {
    "collapsed": false,
    "scrolled": true
   },
   "outputs": [
    {
     "data": {
      "image/png": "[encoded data removed]",
      "text/plain": [
       "<matplotlib.figure.Figure at 0x98d71d0>"
      ]
     },
     "metadata": {},
     "output_type": "display_data"
    }
   ],
   "source": [
    "plt.bar(XA, YA_Brazil, 0.5, color = 'B')\n",
    "plt.xlabel(\"Years\")\n",
    "plt.ylabel(\"Total # of CO2 Emotion (millions)\")\n",
    "plt.title(\"Total # Of CO2 Emotion In Brazil\")\n",
    "plt.axis([1989,2015,0, 15000000])\n",
    "plt.savefig(\"CO2_Total_Brazil.jpg\")"
   ]
  },
  {
   "cell_type": "code",
   "execution_count": 21,
   "metadata": {
    "collapsed": false
   },
   "outputs": [
    {
     "data": {
      "image/png": "[encoded data removed]",
      "text/plain": [
       "<matplotlib.figure.Figure at 0x99d3518>"
      ]
     },
     "metadata": {},
     "output_type": "display_data"
    }
   ],
   "source": [
    "plt.bar(XA, YA_Indonesia, 0.5, color = 'B')\n",
    "plt.xlabel(\"Years\")\n",
    "plt.ylabel(\"Total # of CO2 Emotion (millions)\")\n",
    "plt.title(\"Total # Of CO2 Emotion In Indonesia\")\n",
    "plt.axis([1989,2015,0, 15000000])\n",
    "plt.savefig(\"CO2_Total_Indonesia.jpg\")"
   ]
  },
  {
   "cell_type": "code",
   "execution_count": 22,
   "metadata": {
    "collapsed": false
   },
   "outputs": [
    {
     "data": {
      "image/png": "[encoded data removed]",
      "text/plain": [
       "<matplotlib.figure.Figure at 0x9a94940>"
      ]
     },
     "metadata": {},
     "output_type": "display_data"
    }
   ],
   "source": [
    "plt.bar(XA, YA_India, 0.5, color = 'B')\n",
    "plt.xlabel(\"Years\")\n",
    "plt.ylabel(\"Total # of CO2 Emotion (millions)\")\n",
    "plt.title(\"Total # Of CO2 Emotion In India\")\n",
    "plt.axis([1989,2015,0, 15000000])\n",
    "plt.savefig(\"CO2_Total_India.jpg\")"
   ]
  },
  {
   "cell_type": "code",
   "execution_count": 23,
   "metadata": {
    "collapsed": false
   },
   "outputs": [
    {
     "data": {
      "image/png": "[encoded data removed]",
      "text/plain": [
       "<matplotlib.figure.Figure at 0x99d3b00>"
      ]
     },
     "metadata": {},
     "output_type": "display_data"
    }
   ],
   "source": [
    "plt.bar(XA, YA_Japan, 0.5, color = 'B')\n",
    "plt.xlabel(\"Years\")\n",
    "plt.ylabel(\"Total # of CO2 Emotion (millions)\")\n",
    "plt.title(\"Total # Of CO2 Emotion In Japan\")\n",
    "plt.axis([1989,2015,0, 15000000])\n",
    "plt.savefig(\"CO2_Total_Japan.jpg\")"
   ]
  },
  {
   "cell_type": "code",
   "execution_count": 24,
   "metadata": {
    "collapsed": false
   },
   "outputs": [
    {
     "data": {
      "image/png": "[encoded data removed]",
      "text/plain": [
       "<matplotlib.figure.Figure at 0x9c10e80>"
      ]
     },
     "metadata": {},
     "output_type": "display_data"
    }
   ],
   "source": [
    "plt.bar(XA, YA_Turkey, 0.5, color = 'B')\n",
    "plt.xlabel(\"Years\")\n",
    "plt.ylabel(\"Total # of CO2 Emotion (millions)\")\n",
    "plt.title(\"Total # Of CO2 Emotion In Turkey\")\n",
    "plt.axis([1989,2015,0, 15000000])\n",
    "plt.savefig(\"CO2_Total_Turkey.jpg\")"
   ]
  },
  {
   "cell_type": "code",
   "execution_count": 25,
   "metadata": {
    "collapsed": false
   },
   "outputs": [],
   "source": [
    "YA_China_2007_2012 = Data_2007_2012[\"China\"]\n",
    "YA_Us_2007_2012 = Data_2007_2012[\"United States\"]\n",
    "YA_Canada_2007_2012 = Data_2007_2012[\"Canada\"]\n",
    "YA_Brazil_2007_2012 = Data_2007_2012[\"Brazil\"]\n",
    "YA_Indonesia_2007_2012 = Data_2007_2012[\"Indonesia\"]\n",
    "YA_India_2007_2012 = Data_2007_2012[\"India\"]\n",
    "YA_Japan_2007_2012 = Data_2007_2012[\"Japan\"]\n",
    "YA_Turkey_2007_2012 = Data_2007_2012[\"Turkey\"]\n",
    "\n",
    "XA_2007_2012 = [2007,2008,2009,2010,2011,2012]"
   ]
  },
  {
   "cell_type": "code",
   "execution_count": 26,
   "metadata": {
    "collapsed": false
   },
   "outputs": [
    {
     "data": {
      "image/png": "[encoded data removed]",
      "text/plain": [
       "<matplotlib.figure.Figure at 0xac81be0>"
      ]
     },
     "metadata": {},
     "output_type": "display_data"
    }
   ],
   "source": [
    "plt.bar(XA_2007_2012, YA_China_2007_2012, 0.5, color = 'B')\n",
    "plt.xlabel(\"Years\")\n",
    "plt.ylabel(\"Total # of CO2 Emotion (millions)\")\n",
    "plt.title(\"Total # Of CO2 Emotion In China\")\n",
    "plt.axis([2006,2014,0, 15000000])\n",
    "plt.savefig(\"CO2_Total_China_2007_2012.jpg\")"
   ]
  },
  {
   "cell_type": "code",
   "execution_count": 27,
   "metadata": {
    "collapsed": false
   },
   "outputs": [
    {
     "data": {
      "image/png": "[encoded data removed]",
      "text/plain": [
       "<matplotlib.figure.Figure at 0xad373c8>"
      ]
     },
     "metadata": {},
     "output_type": "display_data"
    }
   ],
   "source": [
    "plt.bar(XA_2007_2012, YA_Us_2007_2012, 0.5, color = 'B')\n",
    "plt.xlabel(\"Years\")\n",
    "plt.ylabel(\"Total # of CO2 Emotion (millions)\")\n",
    "plt.title(\"Total # Of CO2 Emotion In United States\")\n",
    "plt.axis([2006,2014,0, 15000000])\n",
    "plt.savefig(\"CO2_Total_Us_2007_2012.jpg\")"
   ]
  },
  {
   "cell_type": "code",
   "execution_count": 28,
   "metadata": {
    "collapsed": false
   },
   "outputs": [
    {
     "data": {
      "image/png": "[encoded data removed]",
      "text/plain": [
       "<matplotlib.figure.Figure at 0xadcf5f8>"
      ]
     },
     "metadata": {},
     "output_type": "display_data"
    }
   ],
   "source": [
    "plt.bar(XA_2007_2012, YA_Canada_2007_2012, 0.5, color = 'B')\n",
    "plt.xlabel(\"Years\")\n",
    "plt.ylabel(\"Total # of CO2 Emotion (millions)\")\n",
    "plt.title(\"Total # Of CO2 Emotion In Canada\")\n",
    "plt.axis([2006,2014,0, 15000000])\n",
    "plt.savefig(\"CO2_Total_Canada_2007_2012.jpg\")"
   ]
  },
  {
   "cell_type": "code",
   "execution_count": 29,
   "metadata": {
    "collapsed": false
   },
   "outputs": [
    {
     "data": {
      "image/png": "[encoded data removed]",
      "text/plain": [
       "<matplotlib.figure.Figure at 0xae80c88>"
      ]
     },
     "metadata": {},
     "output_type": "display_data"
    }
   ],
   "source": [
    "plt.bar(XA_2007_2012, YA_Brazil_2007_2012, 0.5, color = 'B')\n",
    "plt.xlabel(\"Years\")\n",
    "plt.ylabel(\"Total # of CO2 Emotion (millions)\")\n",
    "plt.title(\"Total # Of CO2 Emotion In Brazil\")\n",
    "plt.axis([2006,2014,0, 15000000])\n",
    "plt.savefig(\"CO2_Total_Brazil_2007_2012.jpg\")"
   ]
  },
  {
   "cell_type": "code",
   "execution_count": 30,
   "metadata": {
    "collapsed": false
   },
   "outputs": [
    {
     "data": {
      "image/png": "[encoded data removed]",
      "text/plain": [
       "<matplotlib.figure.Figure at 0xaf3e4a8>"
      ]
     },
     "metadata": {},
     "output_type": "display_data"
    }
   ],
   "source": [
    "plt.bar(XA_2007_2012, YA_Indonesia_2007_2012, 0.5, color = 'B')\n",
    "plt.xlabel(\"Years\")\n",
    "plt.ylabel(\"Total # of CO2 Emotion (millions)\")\n",
    "plt.title(\"Total # Of CO2 Emotion In Indonesia\")\n",
    "plt.axis([2006,2014,0, 15000000])\n",
    "plt.savefig(\"CO2_Total_Indonesia_2007_2012.jpg\")"
   ]
  },
  {
   "cell_type": "code",
   "execution_count": 31,
   "metadata": {
    "collapsed": false
   },
   "outputs": [
    {
     "data": {
      "image/png": "[encoded data removed]",
      "text/plain": [
       "<matplotlib.figure.Figure at 0xaf3eb00>"
      ]
     },
     "metadata": {},
     "output_type": "display_data"
    }
   ],
   "source": [
    "plt.bar(XA_2007_2012, YA_India_2007_2012, 0.5, color = 'B')\n",
    "plt.xlabel(\"Years\")\n",
    "plt.ylabel(\"Total # of CO2 Emotion (millions)\")\n",
    "plt.title(\"Total # Of CO2 Emotion In India\")\n",
    "plt.axis([2006,2014,0, 15000000])\n",
    "plt.savefig(\"CO2_Total_India_2007_2012.jpg\")"
   ]
  },
  {
   "cell_type": "code",
   "execution_count": 32,
   "metadata": {
    "collapsed": false
   },
   "outputs": [
    {
     "data": {
      "image/png": "[encoded data removed]",
      "text/plain": [
       "<matplotlib.figure.Figure at 0x9c1ba90>"
      ]
     },
     "metadata": {},
     "output_type": "display_data"
    }
   ],
   "source": [
    "plt.bar(XA_2007_2012, YA_Japan_2007_2012, 0.5, color = 'B')\n",
    "plt.xlabel(\"Years\")\n",
    "plt.ylabel(\"Total # of CO2 Emotion (millions)\")\n",
    "plt.title(\"Total # Of CO2 Emotion In Japan\")\n",
    "plt.axis([2006,2014,0, 15000000])\n",
    "plt.savefig(\"CO2_Total_Japan_2007_2012.jpg\")"
   ]
  },
  {
   "cell_type": "code",
   "execution_count": 33,
   "metadata": {
    "collapsed": false
   },
   "outputs": [
    {
     "data": {
      "image/png": "[encoded data removed]",
      "text/plain": [
       "<matplotlib.figure.Figure at 0x9775fd0>"
      ]
     },
     "metadata": {},
     "output_type": "display_data"
    }
   ],
   "source": [
    "plt.bar(XA_2007_2012, YA_Turkey_2007_2012, 0.5, color = 'B')\n",
    "plt.xlabel(\"Years\")\n",
    "plt.ylabel(\"Total # of CO2 Emotion (millions)\")\n",
    "plt.title(\"Total # Of CO2 Emotion In Turkey\")\n",
    "plt.axis([2006,2014,0, 15000000])\n",
    "plt.savefig(\"CO2_Total_Turkey_2007_2012.jpg\")"
   ]
  },
  {
   "cell_type": "code",
   "execution_count": 34,
   "metadata": {
    "collapsed": false
   },
   "outputs": [
    {
     "data": {
      "text/plain": [
       "[2006, 2014, 0, 15000000]"
      ]
     },
     "execution_count": 34,
     "metadata": {},
     "output_type": "execute_result"
    },
    {
     "data": {
      "image/png": "[encoded data removed]",
      "text/plain": [
       "<matplotlib.figure.Figure at 0x9778518>"
      ]
     },
     "metadata": {},
     "output_type": "display_data"
    }
   ],
   "source": [
    "plt.bar(XA_2007_2012, YA_Turkey_2007_2012, 0.5, color = 'B')\n",
    "plt.bar(XA_2007_2012, YA_Japan_2007_2012, 0.1,  color = 'k')\n",
    "plt.xlabel(\"Years\")\n",
    "plt.ylabel(\"Total # of CO2 Emotion (millions)\")\n",
    "plt.title(\"Total # Of CO2 Emotion In Turkey\")\n",
    "plt.axis([2006,2014,0, 15000000])\n"
   ]
  },
  {
   "cell_type": "code",
   "execution_count": 46,
   "metadata": {
    "collapsed": true
   },
   "outputs": [],
   "source": [
    "plt.bar?"
   ]
  },
  {
   "cell_type": "code",
   "execution_count": null,
   "metadata": {
    "collapsed": true
   },
   "outputs": [],
   "source": []
  }
 ],
 "metadata": {
  "kernelspec": {
   "display_name": "Python 3",
   "language": "python",
   "name": "python3"
  },
  "language_info": {
   "codemirror_mode": {
    "name": "ipython",
    "version": 3
   },
   "file_extension": ".py",
   "mimetype": "text/x-python",
   "name": "python",
   "nbconvert_exporter": "python",
   "pygments_lexer": "ipython3",
   "version": "3.6.0"
  }
 },
 "nbformat": 4,
 "nbformat_minor": 2
}
