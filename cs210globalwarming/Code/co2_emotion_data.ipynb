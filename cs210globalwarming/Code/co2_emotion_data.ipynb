{
 "cells": [
  {
   "cell_type": "code",
   "execution_count": 1,
   "metadata": {
    "collapsed": false
   },
   "outputs": [
    {
     "name": "stdout",
     "output_type": "stream",
     "text": [
      "Populating the interactive namespace from numpy and matplotlib\n"
     ]
    }
   ],
   "source": [
    "pylab inline"
   ]
  },
  {
   "cell_type": "code",
   "execution_count": 2,
   "metadata": {
    "collapsed": false
   },
   "outputs": [],
   "source": [
    "import numpy as np\n",
    "import pandas as pd"
   ]
  },
  {
   "cell_type": "code",
   "execution_count": 3,
   "metadata": {
    "collapsed": false
   },
   "outputs": [],
   "source": [
    "file_location = \"D:/Users/SUUSER/Desktop/CS210 project/Data/Co2emission.xlsx\"  "
   ]
  },
  {
   "cell_type": "code",
   "execution_count": 4,
   "metadata": {
    "collapsed": false,
    "scrolled": false
   },
   "outputs": [],
   "source": [
    "data_file = pd.read_excel(file_location)"
   ]
  },
  {
   "cell_type": "code",
   "execution_count": 5,
   "metadata": {
    "collapsed": false
   },
   "outputs": [],
   "source": [
    "years = data_file.ix[:,1:10]\n",
    "country = data_file.ix[:,\" \"]\n",
    "my_data = [country,years]\n",
    "result = pd.concat(my_data, axis = 1)"
   ]
  },
  {
   "cell_type": "code",
   "execution_count": 6,
   "metadata": {
    "collapsed": false
   },
   "outputs": [],
   "source": [
    "china = result.ix[41,:]\n",
    "us =  result.ix[206,:]\n",
    "canada =  result.ix[35,:]\n",
    "brasil =  result.ix[26,:]\n",
    "indonesia =  result.ix[89,:]\n",
    "india =  result.ix[88,:]\n",
    "japan =  result.ix[97,:]\n",
    "Turkey =  result.ix[198,:]"
   ]
  },
  {
   "cell_type": "code",
   "execution_count": 7,
   "metadata": {
    "collapsed": false,
    "scrolled": true
   },
   "outputs": [
    {
     "data": {
      "text/html": [
       "<div>\n",
       "<table border=\"1\" class=\"dataframe\">\n",
       "  <thead>\n",
       "    <tr style=\"text-align: right;\">\n",
       "      <th></th>\n",
       "      <th>41</th>\n",
       "      <th>206</th>\n",
       "      <th>35</th>\n",
       "      <th>26</th>\n",
       "      <th>89</th>\n",
       "      <th>88</th>\n",
       "      <th>97</th>\n",
       "      <th>198</th>\n",
       "    </tr>\n",
       "  </thead>\n",
       "  <tbody>\n",
       "    <tr>\n",
       "      <th></th>\n",
       "      <td>China</td>\n",
       "      <td>United States</td>\n",
       "      <td>Canada</td>\n",
       "      <td>Brazil</td>\n",
       "      <td>Indonesia</td>\n",
       "      <td>India</td>\n",
       "      <td>Japan</td>\n",
       "      <td>Turkey</td>\n",
       "    </tr>\n",
       "    <tr>\n",
       "      <th>1990</th>\n",
       "      <td>2.2</td>\n",
       "      <td>19.3</td>\n",
       "      <td>15.7</td>\n",
       "      <td>1.4</td>\n",
       "      <td>0.8</td>\n",
       "      <td>0.7</td>\n",
       "      <td>8.9</td>\n",
       "      <td>2.7</td>\n",
       "    </tr>\n",
       "    <tr>\n",
       "      <th>2000</th>\n",
       "      <td>2.7</td>\n",
       "      <td>20.2</td>\n",
       "      <td>17.4</td>\n",
       "      <td>1.9</td>\n",
       "      <td>1.2</td>\n",
       "      <td>1.0</td>\n",
       "      <td>9.6</td>\n",
       "      <td>3.4</td>\n",
       "    </tr>\n",
       "    <tr>\n",
       "      <th>2007</th>\n",
       "      <td>5.2</td>\n",
       "      <td>19.2</td>\n",
       "      <td>16.4</td>\n",
       "      <td>1.9</td>\n",
       "      <td>1.6</td>\n",
       "      <td>1.2</td>\n",
       "      <td>9.8</td>\n",
       "      <td>4.1</td>\n",
       "    </tr>\n",
       "    <tr>\n",
       "      <th>2008</th>\n",
       "      <td>5.4</td>\n",
       "      <td>18.5</td>\n",
       "      <td>16.2</td>\n",
       "      <td>2.0</td>\n",
       "      <td>1.8</td>\n",
       "      <td>1.3</td>\n",
       "      <td>9.4</td>\n",
       "      <td>4.0</td>\n",
       "    </tr>\n",
       "    <tr>\n",
       "      <th>2009</th>\n",
       "      <td>5.7</td>\n",
       "      <td>17.2</td>\n",
       "      <td>14.8</td>\n",
       "      <td>1.9</td>\n",
       "      <td>1.9</td>\n",
       "      <td>1.4</td>\n",
       "      <td>8.6</td>\n",
       "      <td>3.9</td>\n",
       "    </tr>\n",
       "    <tr>\n",
       "      <th>2010</th>\n",
       "      <td>6.6</td>\n",
       "      <td>17.5</td>\n",
       "      <td>14.5</td>\n",
       "      <td>2.1</td>\n",
       "      <td>1.8</td>\n",
       "      <td>1.4</td>\n",
       "      <td>9.2</td>\n",
       "      <td>4.1</td>\n",
       "    </tr>\n",
       "    <tr>\n",
       "      <th>2011</th>\n",
       "      <td>7.2</td>\n",
       "      <td>17.0</td>\n",
       "      <td>14.5</td>\n",
       "      <td>2.2</td>\n",
       "      <td>2.3</td>\n",
       "      <td>1.5</td>\n",
       "      <td>9.3</td>\n",
       "      <td>4.4</td>\n",
       "    </tr>\n",
       "    <tr>\n",
       "      <th>2012</th>\n",
       "      <td>7.4</td>\n",
       "      <td>16.3</td>\n",
       "      <td>13.9</td>\n",
       "      <td>2.3</td>\n",
       "      <td>2.4</td>\n",
       "      <td>1.6</td>\n",
       "      <td>9.6</td>\n",
       "      <td>4.4</td>\n",
       "    </tr>\n",
       "    <tr>\n",
       "      <th>2013</th>\n",
       "      <td>7.6</td>\n",
       "      <td>16.4</td>\n",
       "      <td>13.5</td>\n",
       "      <td>2.5</td>\n",
       "      <td>1.9</td>\n",
       "      <td>1.6</td>\n",
       "      <td>9.8</td>\n",
       "      <td>4.2</td>\n",
       "    </tr>\n",
       "  </tbody>\n",
       "</table>\n",
       "</div>"
      ],
      "text/plain": [
       "        41             206     35      26         89     88     97      198\n",
       "      China  United States  Canada  Brazil  Indonesia  India  Japan  Turkey\n",
       "1990    2.2           19.3    15.7     1.4        0.8    0.7    8.9     2.7\n",
       "2000    2.7           20.2    17.4     1.9        1.2    1.0    9.6     3.4\n",
       "2007    5.2           19.2    16.4     1.9        1.6    1.2    9.8     4.1\n",
       "2008    5.4           18.5    16.2     2.0        1.8    1.3    9.4     4.0\n",
       "2009    5.7           17.2    14.8     1.9        1.9    1.4    8.6     3.9\n",
       "2010    6.6           17.5    14.5     2.1        1.8    1.4    9.2     4.1\n",
       "2011    7.2           17.0    14.5     2.2        2.3    1.5    9.3     4.4\n",
       "2012    7.4           16.3    13.9     2.3        2.4    1.6    9.6     4.4\n",
       "2013    7.6           16.4    13.5     2.5        1.9    1.6    9.8     4.2"
      ]
     },
     "execution_count": 7,
     "metadata": {},
     "output_type": "execute_result"
    }
   ],
   "source": [
    "my_data = [china,us,canada,brasil,indonesia,india,japan,Turkey]\n",
    "result = pd.concat(my_data, axis = 1)\n",
    "#result.to_excel(\"result.xlsx\")\n",
    "result"
   ]
  },
  {
   "cell_type": "code",
   "execution_count": 8,
   "metadata": {
    "collapsed": false
   },
   "outputs": [
    {
     "data": {
      "text/html": [
       "<div>\n",
       "<table border=\"1\" class=\"dataframe\">\n",
       "  <thead>\n",
       "    <tr style=\"text-align: right;\">\n",
       "      <th></th>\n",
       "      <th>China</th>\n",
       "      <th>United States</th>\n",
       "      <th>Canada</th>\n",
       "      <th>Brazil</th>\n",
       "      <th>Indonesia</th>\n",
       "      <th>India</th>\n",
       "      <th>Japan</th>\n",
       "      <th>Turkey</th>\n",
       "    </tr>\n",
       "  </thead>\n",
       "  <tbody>\n",
       "    <tr>\n",
       "      <th></th>\n",
       "      <td>China</td>\n",
       "      <td>United States</td>\n",
       "      <td>Canada</td>\n",
       "      <td>Brazil</td>\n",
       "      <td>Indonesia</td>\n",
       "      <td>India</td>\n",
       "      <td>Japan</td>\n",
       "      <td>Turkey</td>\n",
       "    </tr>\n",
       "    <tr>\n",
       "      <th>1990</th>\n",
       "      <td>2.2</td>\n",
       "      <td>19.3</td>\n",
       "      <td>15.7</td>\n",
       "      <td>1.4</td>\n",
       "      <td>0.8</td>\n",
       "      <td>0.7</td>\n",
       "      <td>8.9</td>\n",
       "      <td>2.7</td>\n",
       "    </tr>\n",
       "    <tr>\n",
       "      <th>2000</th>\n",
       "      <td>2.7</td>\n",
       "      <td>20.2</td>\n",
       "      <td>17.4</td>\n",
       "      <td>1.9</td>\n",
       "      <td>1.2</td>\n",
       "      <td>1.0</td>\n",
       "      <td>9.6</td>\n",
       "      <td>3.4</td>\n",
       "    </tr>\n",
       "    <tr>\n",
       "      <th>2007</th>\n",
       "      <td>5.2</td>\n",
       "      <td>19.2</td>\n",
       "      <td>16.4</td>\n",
       "      <td>1.9</td>\n",
       "      <td>1.6</td>\n",
       "      <td>1.2</td>\n",
       "      <td>9.8</td>\n",
       "      <td>4.1</td>\n",
       "    </tr>\n",
       "    <tr>\n",
       "      <th>2008</th>\n",
       "      <td>5.4</td>\n",
       "      <td>18.5</td>\n",
       "      <td>16.2</td>\n",
       "      <td>2.0</td>\n",
       "      <td>1.8</td>\n",
       "      <td>1.3</td>\n",
       "      <td>9.4</td>\n",
       "      <td>4.0</td>\n",
       "    </tr>\n",
       "    <tr>\n",
       "      <th>2009</th>\n",
       "      <td>5.7</td>\n",
       "      <td>17.2</td>\n",
       "      <td>14.8</td>\n",
       "      <td>1.9</td>\n",
       "      <td>1.9</td>\n",
       "      <td>1.4</td>\n",
       "      <td>8.6</td>\n",
       "      <td>3.9</td>\n",
       "    </tr>\n",
       "    <tr>\n",
       "      <th>2010</th>\n",
       "      <td>6.6</td>\n",
       "      <td>17.5</td>\n",
       "      <td>14.5</td>\n",
       "      <td>2.1</td>\n",
       "      <td>1.8</td>\n",
       "      <td>1.4</td>\n",
       "      <td>9.2</td>\n",
       "      <td>4.1</td>\n",
       "    </tr>\n",
       "    <tr>\n",
       "      <th>2011</th>\n",
       "      <td>7.2</td>\n",
       "      <td>17.0</td>\n",
       "      <td>14.5</td>\n",
       "      <td>2.2</td>\n",
       "      <td>2.3</td>\n",
       "      <td>1.5</td>\n",
       "      <td>9.3</td>\n",
       "      <td>4.4</td>\n",
       "    </tr>\n",
       "    <tr>\n",
       "      <th>2012</th>\n",
       "      <td>7.4</td>\n",
       "      <td>16.3</td>\n",
       "      <td>13.9</td>\n",
       "      <td>2.3</td>\n",
       "      <td>2.4</td>\n",
       "      <td>1.6</td>\n",
       "      <td>9.6</td>\n",
       "      <td>4.4</td>\n",
       "    </tr>\n",
       "    <tr>\n",
       "      <th>2013</th>\n",
       "      <td>7.6</td>\n",
       "      <td>16.4</td>\n",
       "      <td>13.5</td>\n",
       "      <td>2.5</td>\n",
       "      <td>1.9</td>\n",
       "      <td>1.6</td>\n",
       "      <td>9.8</td>\n",
       "      <td>4.2</td>\n",
       "    </tr>\n",
       "  </tbody>\n",
       "</table>\n",
       "</div>"
      ],
      "text/plain": [
       "      China  United States  Canada  Brazil  Indonesia  India  Japan  Turkey\n",
       "      China  United States  Canada  Brazil  Indonesia  India  Japan  Turkey\n",
       "1990    2.2           19.3    15.7     1.4        0.8    0.7    8.9     2.7\n",
       "2000    2.7           20.2    17.4     1.9        1.2    1.0    9.6     3.4\n",
       "2007    5.2           19.2    16.4     1.9        1.6    1.2    9.8     4.1\n",
       "2008    5.4           18.5    16.2     2.0        1.8    1.3    9.4     4.0\n",
       "2009    5.7           17.2    14.8     1.9        1.9    1.4    8.6     3.9\n",
       "2010    6.6           17.5    14.5     2.1        1.8    1.4    9.2     4.1\n",
       "2011    7.2           17.0    14.5     2.2        2.3    1.5    9.3     4.4\n",
       "2012    7.4           16.3    13.9     2.3        2.4    1.6    9.6     4.4\n",
       "2013    7.6           16.4    13.5     2.5        1.9    1.6    9.8     4.2"
      ]
     },
     "execution_count": 8,
     "metadata": {},
     "output_type": "execute_result"
    }
   ],
   "source": [
    "result.columns = [\"China\",\"United States\",\"Canada\",\"Brazil\",\"Indonesia\",\"India\",\"Japan\",\"Turkey\"]\n",
    "result"
   ]
  },
  {
   "cell_type": "code",
   "execution_count": 9,
   "metadata": {
    "collapsed": false
   },
   "outputs": [
    {
     "data": {
      "text/html": [
       "<div>\n",
       "<table border=\"1\" class=\"dataframe\">\n",
       "  <thead>\n",
       "    <tr style=\"text-align: right;\">\n",
       "      <th></th>\n",
       "      <th>China</th>\n",
       "      <th>United States</th>\n",
       "      <th>Canada</th>\n",
       "      <th>Brazil</th>\n",
       "      <th>Indonesia</th>\n",
       "      <th>India</th>\n",
       "      <th>Japan</th>\n",
       "      <th>Turkey</th>\n",
       "    </tr>\n",
       "  </thead>\n",
       "  <tbody>\n",
       "    <tr>\n",
       "      <th>1990</th>\n",
       "      <td>2.2</td>\n",
       "      <td>19.3</td>\n",
       "      <td>15.7</td>\n",
       "      <td>1.4</td>\n",
       "      <td>0.8</td>\n",
       "      <td>0.7</td>\n",
       "      <td>8.9</td>\n",
       "      <td>2.7</td>\n",
       "    </tr>\n",
       "    <tr>\n",
       "      <th>2000</th>\n",
       "      <td>2.7</td>\n",
       "      <td>20.2</td>\n",
       "      <td>17.4</td>\n",
       "      <td>1.9</td>\n",
       "      <td>1.2</td>\n",
       "      <td>1.0</td>\n",
       "      <td>9.6</td>\n",
       "      <td>3.4</td>\n",
       "    </tr>\n",
       "    <tr>\n",
       "      <th>2007</th>\n",
       "      <td>5.2</td>\n",
       "      <td>19.2</td>\n",
       "      <td>16.4</td>\n",
       "      <td>1.9</td>\n",
       "      <td>1.6</td>\n",
       "      <td>1.2</td>\n",
       "      <td>9.8</td>\n",
       "      <td>4.1</td>\n",
       "    </tr>\n",
       "    <tr>\n",
       "      <th>2008</th>\n",
       "      <td>5.4</td>\n",
       "      <td>18.5</td>\n",
       "      <td>16.2</td>\n",
       "      <td>2.0</td>\n",
       "      <td>1.8</td>\n",
       "      <td>1.3</td>\n",
       "      <td>9.4</td>\n",
       "      <td>4.0</td>\n",
       "    </tr>\n",
       "    <tr>\n",
       "      <th>2009</th>\n",
       "      <td>5.7</td>\n",
       "      <td>17.2</td>\n",
       "      <td>14.8</td>\n",
       "      <td>1.9</td>\n",
       "      <td>1.9</td>\n",
       "      <td>1.4</td>\n",
       "      <td>8.6</td>\n",
       "      <td>3.9</td>\n",
       "    </tr>\n",
       "    <tr>\n",
       "      <th>2010</th>\n",
       "      <td>6.6</td>\n",
       "      <td>17.5</td>\n",
       "      <td>14.5</td>\n",
       "      <td>2.1</td>\n",
       "      <td>1.8</td>\n",
       "      <td>1.4</td>\n",
       "      <td>9.2</td>\n",
       "      <td>4.1</td>\n",
       "    </tr>\n",
       "    <tr>\n",
       "      <th>2011</th>\n",
       "      <td>7.2</td>\n",
       "      <td>17.0</td>\n",
       "      <td>14.5</td>\n",
       "      <td>2.2</td>\n",
       "      <td>2.3</td>\n",
       "      <td>1.5</td>\n",
       "      <td>9.3</td>\n",
       "      <td>4.4</td>\n",
       "    </tr>\n",
       "    <tr>\n",
       "      <th>2012</th>\n",
       "      <td>7.4</td>\n",
       "      <td>16.3</td>\n",
       "      <td>13.9</td>\n",
       "      <td>2.3</td>\n",
       "      <td>2.4</td>\n",
       "      <td>1.6</td>\n",
       "      <td>9.6</td>\n",
       "      <td>4.4</td>\n",
       "    </tr>\n",
       "    <tr>\n",
       "      <th>2013</th>\n",
       "      <td>7.6</td>\n",
       "      <td>16.4</td>\n",
       "      <td>13.5</td>\n",
       "      <td>2.5</td>\n",
       "      <td>1.9</td>\n",
       "      <td>1.6</td>\n",
       "      <td>9.8</td>\n",
       "      <td>4.2</td>\n",
       "    </tr>\n",
       "  </tbody>\n",
       "</table>\n",
       "</div>"
      ],
      "text/plain": [
       "     China United States Canada Brazil Indonesia India Japan Turkey\n",
       "1990   2.2          19.3   15.7    1.4       0.8   0.7   8.9    2.7\n",
       "2000   2.7          20.2   17.4    1.9       1.2   1.0   9.6    3.4\n",
       "2007   5.2          19.2   16.4    1.9       1.6   1.2   9.8    4.1\n",
       "2008   5.4          18.5   16.2    2.0       1.8   1.3   9.4    4.0\n",
       "2009   5.7          17.2   14.8    1.9       1.9   1.4   8.6    3.9\n",
       "2010   6.6          17.5   14.5    2.1       1.8   1.4   9.2    4.1\n",
       "2011   7.2          17.0   14.5    2.2       2.3   1.5   9.3    4.4\n",
       "2012   7.4          16.3   13.9    2.3       2.4   1.6   9.6    4.4\n",
       "2013   7.6          16.4   13.5    2.5       1.9   1.6   9.8    4.2"
      ]
     },
     "execution_count": 9,
     "metadata": {},
     "output_type": "execute_result"
    }
   ],
   "source": [
    "result = result.drop(result.index[0])\n",
    "result"
   ]
  },
  {
   "cell_type": "code",
   "execution_count": 10,
   "metadata": {
    "collapsed": false
   },
   "outputs": [
    {
     "data": {
      "text/plain": [
       "China            object\n",
       "United States    object\n",
       "Canada           object\n",
       "Brazil           object\n",
       "Indonesia        object\n",
       "India            object\n",
       "Japan            object\n",
       "Turkey           object\n",
       "dtype: object"
      ]
     },
     "execution_count": 10,
     "metadata": {},
     "output_type": "execute_result"
    }
   ],
   "source": [
    "result.dtypes"
   ]
  },
  {
   "cell_type": "code",
   "execution_count": 11,
   "metadata": {
    "collapsed": false
   },
   "outputs": [
    {
     "data": {
      "text/plain": [
       "China            float64\n",
       "United States    float64\n",
       "Canada           float64\n",
       "Brazil           float64\n",
       "Indonesia        float64\n",
       "India            float64\n",
       "Japan            float64\n",
       "Turkey           float64\n",
       "dtype: object"
      ]
     },
     "execution_count": 11,
     "metadata": {},
     "output_type": "execute_result"
    }
   ],
   "source": [
    "result.ix[:,:]  = result.ix[:,:].astype(float)\n",
    "result.dtypes"
   ]
  },
  {
   "cell_type": "code",
   "execution_count": 12,
   "metadata": {
    "collapsed": false
   },
   "outputs": [],
   "source": [
    "%matplotlib inline"
   ]
  },
  {
   "cell_type": "code",
   "execution_count": 13,
   "metadata": {
    "collapsed": false
   },
   "outputs": [],
   "source": [
    "import matplotlib.pyplot as plt"
   ]
  },
  {
   "cell_type": "code",
   "execution_count": 14,
   "metadata": {
    "collapsed": false
   },
   "outputs": [
    {
     "ename": "TypeError",
     "evalue": "bar() missing 1 required positional argument: 'height'",
     "output_type": "error",
     "traceback": [
      "\u001b[0;31m---------------------------------------------------------------------------\u001b[0m",
      "\u001b[0;31mTypeError\u001b[0m                                 Traceback (most recent call last)",
      "\u001b[0;32m<ipython-input-14-2178d6055693>\u001b[0m in \u001b[0;36m<module>\u001b[0;34m()\u001b[0m\n\u001b[0;32m----> 1\u001b[0;31m \u001b[0mplt\u001b[0m\u001b[1;33m.\u001b[0m\u001b[0mbar\u001b[0m\u001b[1;33m(\u001b[0m\u001b[0mresult\u001b[0m\u001b[1;33m[\u001b[0m\u001b[1;34m\"China\"\u001b[0m\u001b[1;33m]\u001b[0m\u001b[1;33m)\u001b[0m\u001b[1;33m\u001b[0m\u001b[0m\n\u001b[0m",
      "\u001b[0;31mTypeError\u001b[0m: bar() missing 1 required positional argument: 'height'"
     ]
    }
   ],
   "source": [
    "plt.bar(result[\"China\"])"
   ]
  }
 ],
 "metadata": {
  "kernelspec": {
   "display_name": "Python 3",
   "language": "python",
   "name": "python3"
  },
  "language_info": {
   "codemirror_mode": {
    "name": "ipython",
    "version": 3
   },
   "file_extension": ".py",
   "mimetype": "text/x-python",
   "name": "python",
   "nbconvert_exporter": "python",
   "pygments_lexer": "ipython3",
   "version": "3.6.0"
  }
 },
 "nbformat": 4,
 "nbformat_minor": 2
}
